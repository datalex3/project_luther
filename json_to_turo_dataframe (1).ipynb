{
 "cells": [
  {
   "cell_type": "markdown",
   "metadata": {},
   "source": [
    " **File uploaded from https://www.kaggle.com/theriley106/turo-rental-car-pricing-info\n",
    " Credit Christopher Lambert https://github.com/theriley106/turo_analytics"
   ]
  },
  {
   "cell_type": "code",
   "execution_count": 23,
   "metadata": {},
   "outputs": [],
   "source": [
    "import json\n",
    "import pandas as pd\n",
    "import csv"
   ]
  },
  {
   "cell_type": "code",
   "execution_count": 3,
   "metadata": {},
   "outputs": [],
   "source": [
    "pd.set_option('display.max_rows', 500)\n",
    "pd.set_option('display.max_columns', 500)\n",
    "pd.set_option('display.width', 1000)"
   ]
  },
  {
   "cell_type": "markdown",
   "metadata": {},
   "source": [
    "**Json file contains multiple dictionaries within dictionaries"
   ]
  },
  {
   "cell_type": "code",
   "execution_count": 4,
   "metadata": {},
   "outputs": [],
   "source": [
    "turo =pd.read_json(\"database.json\")"
   ]
  },
  {
   "cell_type": "markdown",
   "metadata": {},
   "source": [
    "**Converted to dataframe"
   ]
  },
  {
   "cell_type": "code",
   "execution_count": 5,
   "metadata": {
    "scrolled": true
   },
   "outputs": [
    {
     "data": {
      "text/html": [
       "<div>\n",
       "<style>\n",
       "    .dataframe thead tr:only-child th {\n",
       "        text-align: right;\n",
       "    }\n",
       "\n",
       "    .dataframe thead th {\n",
       "        text-align: left;\n",
       "    }\n",
       "\n",
       "    .dataframe tbody tr th {\n",
       "        vertical-align: top;\n",
       "    }\n",
       "</style>\n",
       "<table border=\"1\" class=\"dataframe\">\n",
       "  <thead>\n",
       "    <tr style=\"text-align: right;\">\n",
       "      <th></th>\n",
       "      <th>businessClass</th>\n",
       "      <th>deliveryLabel</th>\n",
       "      <th>distance</th>\n",
       "      <th>distanceLabel</th>\n",
       "      <th>distanceWithUnit</th>\n",
       "      <th>freeDeliveryPromotion</th>\n",
       "      <th>images</th>\n",
       "      <th>instantBookDisplayed</th>\n",
       "      <th>location</th>\n",
       "      <th>newListing</th>\n",
       "      <th>owner</th>\n",
       "      <th>rate</th>\n",
       "      <th>rating</th>\n",
       "      <th>rentableFromSearchedAirport</th>\n",
       "      <th>renterTripsTaken</th>\n",
       "      <th>responseRate</th>\n",
       "      <th>responseTime</th>\n",
       "      <th>reviewCount</th>\n",
       "      <th>vehicle</th>\n",
       "    </tr>\n",
       "  </thead>\n",
       "  <tbody>\n",
       "    <tr>\n",
       "      <th>0</th>\n",
       "      <td>False</td>\n",
       "      <td>None</td>\n",
       "      <td>11</td>\n",
       "      <td>11 mi</td>\n",
       "      <td>{'scalar': 11, 'unlimited': False, 'unit': 'MI'}</td>\n",
       "      <td>False</td>\n",
       "      <td>[{'verified': False, 'thumbnails': {'620x372':...</td>\n",
       "      <td>False</td>\n",
       "      <td>{'city': 'Iowa Falls ', 'country': 'US', 'prec...</td>\n",
       "      <td>False</td>\n",
       "      <td>{'lastName': 'D.', 'image': {'verified': False...</td>\n",
       "      <td>{'monthly': 0.30000000000000004, 'averageDaily...</td>\n",
       "      <td>NaN</td>\n",
       "      <td>False</td>\n",
       "      <td>0</td>\n",
       "      <td>0.0</td>\n",
       "      <td>None</td>\n",
       "      <td>0</td>\n",
       "      <td>{'trim': None, 'automaticTransmission': True, ...</td>\n",
       "    </tr>\n",
       "    <tr>\n",
       "      <th>1</th>\n",
       "      <td>False</td>\n",
       "      <td>None</td>\n",
       "      <td>8</td>\n",
       "      <td>8 mi</td>\n",
       "      <td>{'scalar': 8, 'unlimited': False, 'unit': 'MI'}</td>\n",
       "      <td>False</td>\n",
       "      <td>[{'verified': False, 'thumbnails': {'620x372':...</td>\n",
       "      <td>True</td>\n",
       "      <td>{'city': 'Marshall', 'country': 'US', 'precisi...</td>\n",
       "      <td>False</td>\n",
       "      <td>{'lastName': 'C.', 'image': {'verified': False...</td>\n",
       "      <td>{'monthly': 0.30000000000000004, 'averageDaily...</td>\n",
       "      <td>5.00</td>\n",
       "      <td>False</td>\n",
       "      <td>1</td>\n",
       "      <td>100.0</td>\n",
       "      <td>{'unit': 'MINUTE', 'value': 0}</td>\n",
       "      <td>1</td>\n",
       "      <td>{'trim': None, 'automaticTransmission': True, ...</td>\n",
       "    </tr>\n",
       "    <tr>\n",
       "      <th>2</th>\n",
       "      <td>False</td>\n",
       "      <td>None</td>\n",
       "      <td>5</td>\n",
       "      <td>5 mi</td>\n",
       "      <td>{'scalar': 5, 'unlimited': False, 'unit': 'MI'}</td>\n",
       "      <td>False</td>\n",
       "      <td>[{'verified': False, 'thumbnails': {'620x372':...</td>\n",
       "      <td>True</td>\n",
       "      <td>{'city': 'Colliers', 'country': 'US', 'precisi...</td>\n",
       "      <td>False</td>\n",
       "      <td>{'lastName': 'S.', 'image': {'verified': False...</td>\n",
       "      <td>{'monthly': 0.25, 'averageDailyPrice': 40.0, '...</td>\n",
       "      <td>NaN</td>\n",
       "      <td>False</td>\n",
       "      <td>0</td>\n",
       "      <td>NaN</td>\n",
       "      <td>None</td>\n",
       "      <td>0</td>\n",
       "      <td>{'trim': None, 'automaticTransmission': True, ...</td>\n",
       "    </tr>\n",
       "    <tr>\n",
       "      <th>3</th>\n",
       "      <td>False</td>\n",
       "      <td>None</td>\n",
       "      <td>19</td>\n",
       "      <td>19 mi</td>\n",
       "      <td>{'scalar': 19, 'unlimited': False, 'unit': 'MI'}</td>\n",
       "      <td>False</td>\n",
       "      <td>[{'verified': False, 'thumbnails': {'620x372':...</td>\n",
       "      <td>True</td>\n",
       "      <td>{'city': 'Moon', 'country': 'US', 'precision':...</td>\n",
       "      <td>False</td>\n",
       "      <td>{'lastName': 'A.', 'image': {'verified': False...</td>\n",
       "      <td>{'monthly': 0.0, 'averageDailyPrice': 99.0, 'a...</td>\n",
       "      <td>3.75</td>\n",
       "      <td>False</td>\n",
       "      <td>4</td>\n",
       "      <td>100.0</td>\n",
       "      <td>{'unit': 'MINUTE', 'value': 0}</td>\n",
       "      <td>5</td>\n",
       "      <td>{'trim': None, 'automaticTransmission': True, ...</td>\n",
       "    </tr>\n",
       "    <tr>\n",
       "      <th>4</th>\n",
       "      <td>False</td>\n",
       "      <td>None</td>\n",
       "      <td>17</td>\n",
       "      <td>17 mi</td>\n",
       "      <td>{'scalar': 17, 'unlimited': False, 'unit': 'MI'}</td>\n",
       "      <td>False</td>\n",
       "      <td>[{'verified': False, 'thumbnails': {'620x372':...</td>\n",
       "      <td>False</td>\n",
       "      <td>{'city': 'Pittsburgh', 'country': 'US', 'preci...</td>\n",
       "      <td>False</td>\n",
       "      <td>{'lastName': 'F.', 'image': {'verified': False...</td>\n",
       "      <td>{'monthly': 0.30000000000000004, 'averageDaily...</td>\n",
       "      <td>NaN</td>\n",
       "      <td>False</td>\n",
       "      <td>0</td>\n",
       "      <td>NaN</td>\n",
       "      <td>None</td>\n",
       "      <td>0</td>\n",
       "      <td>{'trim': None, 'automaticTransmission': True, ...</td>\n",
       "    </tr>\n",
       "  </tbody>\n",
       "</table>\n",
       "</div>"
      ],
      "text/plain": [
       "   businessClass deliveryLabel  distance distanceLabel                                  distanceWithUnit  freeDeliveryPromotion                                             images  instantBookDisplayed                                           location  newListing                                              owner                                               rate  rating  rentableFromSearchedAirport  renterTripsTaken  responseRate                    responseTime  reviewCount                                            vehicle\n",
       "0          False          None        11         11 mi  {'scalar': 11, 'unlimited': False, 'unit': 'MI'}                  False  [{'verified': False, 'thumbnails': {'620x372':...                 False  {'city': 'Iowa Falls ', 'country': 'US', 'prec...       False  {'lastName': 'D.', 'image': {'verified': False...  {'monthly': 0.30000000000000004, 'averageDaily...     NaN                        False                 0           0.0                            None            0  {'trim': None, 'automaticTransmission': True, ...\n",
       "1          False          None         8          8 mi   {'scalar': 8, 'unlimited': False, 'unit': 'MI'}                  False  [{'verified': False, 'thumbnails': {'620x372':...                  True  {'city': 'Marshall', 'country': 'US', 'precisi...       False  {'lastName': 'C.', 'image': {'verified': False...  {'monthly': 0.30000000000000004, 'averageDaily...    5.00                        False                 1         100.0  {'unit': 'MINUTE', 'value': 0}            1  {'trim': None, 'automaticTransmission': True, ...\n",
       "2          False          None         5          5 mi   {'scalar': 5, 'unlimited': False, 'unit': 'MI'}                  False  [{'verified': False, 'thumbnails': {'620x372':...                  True  {'city': 'Colliers', 'country': 'US', 'precisi...       False  {'lastName': 'S.', 'image': {'verified': False...  {'monthly': 0.25, 'averageDailyPrice': 40.0, '...     NaN                        False                 0           NaN                            None            0  {'trim': None, 'automaticTransmission': True, ...\n",
       "3          False          None        19         19 mi  {'scalar': 19, 'unlimited': False, 'unit': 'MI'}                  False  [{'verified': False, 'thumbnails': {'620x372':...                  True  {'city': 'Moon', 'country': 'US', 'precision':...       False  {'lastName': 'A.', 'image': {'verified': False...  {'monthly': 0.0, 'averageDailyPrice': 99.0, 'a...    3.75                        False                 4         100.0  {'unit': 'MINUTE', 'value': 0}            5  {'trim': None, 'automaticTransmission': True, ...\n",
       "4          False          None        17         17 mi  {'scalar': 17, 'unlimited': False, 'unit': 'MI'}                  False  [{'verified': False, 'thumbnails': {'620x372':...                 False  {'city': 'Pittsburgh', 'country': 'US', 'preci...       False  {'lastName': 'F.', 'image': {'verified': False...  {'monthly': 0.30000000000000004, 'averageDaily...     NaN                        False                 0           NaN                            None            0  {'trim': None, 'automaticTransmission': True, ..."
      ]
     },
     "execution_count": 5,
     "metadata": {},
     "output_type": "execute_result"
    }
   ],
   "source": [
    "turo.head()"
   ]
  },
  {
   "cell_type": "code",
   "execution_count": 6,
   "metadata": {
    "scrolled": false
   },
   "outputs": [
    {
     "name": "stdout",
     "output_type": "stream",
     "text": [
      "<class 'pandas.core.frame.DataFrame'>\n",
      "Int64Index: 36279 entries, 0 to 36278\n",
      "Data columns (total 19 columns):\n",
      "businessClass                  36279 non-null bool\n",
      "deliveryLabel                  9038 non-null object\n",
      "distance                       36279 non-null int64\n",
      "distanceLabel                  34560 non-null object\n",
      "distanceWithUnit               36279 non-null object\n",
      "freeDeliveryPromotion          36279 non-null bool\n",
      "images                         36279 non-null object\n",
      "instantBookDisplayed           36279 non-null bool\n",
      "location                       36279 non-null object\n",
      "newListing                     36279 non-null bool\n",
      "owner                          36279 non-null object\n",
      "rate                           36279 non-null object\n",
      "rating                         21060 non-null float64\n",
      "rentableFromSearchedAirport    36279 non-null bool\n",
      "renterTripsTaken               36279 non-null int64\n",
      "responseRate                   27845 non-null float64\n",
      "responseTime                   27107 non-null object\n",
      "reviewCount                    36279 non-null int64\n",
      "vehicle                        36279 non-null object\n",
      "dtypes: bool(5), float64(2), int64(3), object(9)\n",
      "memory usage: 4.3+ MB\n"
     ]
    }
   ],
   "source": [
    "turo.info()"
   ]
  },
  {
   "cell_type": "markdown",
   "metadata": {},
   "source": [
    "**Dataframe includes columns of dictionaries and dictionaries within dictionaries. These will need to be unpacked and evaluated.\n",
    "Following cells split dictionaries into separate columns. Unneccesary columns are dropped."
   ]
  },
  {
   "cell_type": "code",
   "execution_count": 7,
   "metadata": {},
   "outputs": [],
   "source": [
    "turo = turo.drop('owner', 1).assign(**pd.DataFrame.from_records(turo.owner.dropna().tolist()))"
   ]
  },
  {
   "cell_type": "code",
   "execution_count": 8,
   "metadata": {},
   "outputs": [],
   "source": [
    "turo.drop('image',axis=1,inplace=True)"
   ]
  },
  {
   "cell_type": "code",
   "execution_count": 9,
   "metadata": {},
   "outputs": [],
   "source": [
    "turo = turo.drop('distanceWithUnit', 1).assign(**pd.DataFrame.from_records(turo.distanceWithUnit.dropna().tolist()))"
   ]
  },
  {
   "cell_type": "code",
   "execution_count": 10,
   "metadata": {},
   "outputs": [],
   "source": [
    "turo.drop('distanceLabel',axis=1,inplace=True)\n",
    "turo.drop('scalar',axis=1,inplace=True)\n",
    "turo.drop('unit',axis=1,inplace=True)"
   ]
  },
  {
   "cell_type": "code",
   "execution_count": 11,
   "metadata": {},
   "outputs": [],
   "source": [
    "turo = turo.drop('location', 1).assign(**pd.DataFrame.from_records(turo.location.dropna().tolist()))"
   ]
  },
  {
   "cell_type": "code",
   "execution_count": 12,
   "metadata": {},
   "outputs": [],
   "source": [
    "turo = turo.drop('rate', 1).assign(**pd.DataFrame.from_records(turo.rate.dropna().tolist()))"
   ]
  },
  {
   "cell_type": "code",
   "execution_count": 13,
   "metadata": {},
   "outputs": [],
   "source": [
    "turo.drop('averageDailyPriceWithCurrency',axis=1,inplace=True)\n",
    "turo.drop('locationSource',axis=1,inplace=True)\n",
    "turo.drop('country',axis=1,inplace=True)"
   ]
  },
  {
   "cell_type": "code",
   "execution_count": 14,
   "metadata": {},
   "outputs": [],
   "source": [
    "turo = turo.drop('precision', 1).assign(**pd.DataFrame.from_records(turo.precision.dropna().tolist()))"
   ]
  },
  {
   "cell_type": "code",
   "execution_count": 15,
   "metadata": {},
   "outputs": [],
   "source": [
    "turo.drop('timeZone',axis=1,inplace=True)\n",
    "turo.drop('accuracy',axis=1,inplace=True)\n",
    "turo.drop('level',axis=1,inplace=True)\n",
    "turo.drop('address',axis=1,inplace=True)\n",
    "turo.drop('addressLines',axis=1,inplace=True)\n",
    "turo.drop('name',axis=1,inplace=True)\n",
    "turo.drop('lastName',axis=1,inplace=True)\n",
    "turo.drop('averageDailyPrice',axis=1,inplace=True)\n",
    "turo.drop('firstName',axis=1,inplace=True)"
   ]
  },
  {
   "cell_type": "code",
   "execution_count": 16,
   "metadata": {},
   "outputs": [],
   "source": [
    "turo = turo.drop('vehicle', 1).assign(**pd.DataFrame.from_records(turo.vehicle.dropna().tolist()))"
   ]
  },
  {
   "cell_type": "code",
   "execution_count": 17,
   "metadata": {},
   "outputs": [],
   "source": [
    "turo.drop('marketCountry',axis=1,inplace=True)\n",
    "turo.drop('marketCurrency',axis=1,inplace=True)\n",
    "turo.drop('image',axis=1,inplace=True)\n",
    "turo.drop('registration',axis=1,inplace=True)\n",
    "turo.drop('url',axis=1,inplace=True)\n",
    "turo.drop('trim',axis=1,inplace=True)\n",
    "turo.drop('deliveryLabel',axis=1,inplace=True)"
   ]
  },
  {
   "cell_type": "code",
   "execution_count": 18,
   "metadata": {},
   "outputs": [],
   "source": [
    "turo = turo.drop('responseTime', 1).assign(**pd.DataFrame.from_records(turo.responseTime.dropna().tolist()))"
   ]
  },
  {
   "cell_type": "code",
   "execution_count": 19,
   "metadata": {},
   "outputs": [],
   "source": [
    "turo.drop('newListing',axis=1,inplace=True)\n",
    "turo.drop('monthly',axis=1,inplace=True)\n",
    "turo.drop('weekly',axis=1,inplace=True)\n",
    "turo.drop('unit',axis=1,inplace=True)\n",
    "turo.drop('value',axis=1,inplace=True)\n",
    "turo.drop('rating',axis=1,inplace=True)\n",
    "turo.drop('unlimited',axis=1,inplace=True)\n",
    "turo.drop('responseRate',axis=1,inplace=True)"
   ]
  },
  {
   "cell_type": "code",
   "execution_count": 20,
   "metadata": {},
   "outputs": [],
   "source": [
    "turo.drop('images',axis=1,inplace=True)\n",
    "turo.drop('name',axis=1,inplace=True)"
   ]
  },
  {
   "cell_type": "code",
   "execution_count": 21,
   "metadata": {
    "scrolled": false
   },
   "outputs": [
    {
     "data": {
      "text/html": [
       "<div>\n",
       "<style>\n",
       "    .dataframe thead tr:only-child th {\n",
       "        text-align: right;\n",
       "    }\n",
       "\n",
       "    .dataframe thead th {\n",
       "        text-align: left;\n",
       "    }\n",
       "\n",
       "    .dataframe tbody tr th {\n",
       "        vertical-align: top;\n",
       "    }\n",
       "</style>\n",
       "<table border=\"1\" class=\"dataframe\">\n",
       "  <thead>\n",
       "    <tr style=\"text-align: right;\">\n",
       "      <th></th>\n",
       "      <th>businessClass</th>\n",
       "      <th>distance</th>\n",
       "      <th>freeDeliveryPromotion</th>\n",
       "      <th>instantBookDisplayed</th>\n",
       "      <th>rentableFromSearchedAirport</th>\n",
       "      <th>renterTripsTaken</th>\n",
       "      <th>reviewCount</th>\n",
       "      <th>id</th>\n",
       "      <th>city</th>\n",
       "      <th>latitude</th>\n",
       "      <th>longitude</th>\n",
       "      <th>state</th>\n",
       "      <th>daily</th>\n",
       "      <th>automaticTransmission</th>\n",
       "      <th>listingCreatedTime</th>\n",
       "      <th>make</th>\n",
       "      <th>model</th>\n",
       "      <th>type</th>\n",
       "      <th>year</th>\n",
       "    </tr>\n",
       "  </thead>\n",
       "  <tbody>\n",
       "    <tr>\n",
       "      <th>0</th>\n",
       "      <td>False</td>\n",
       "      <td>11</td>\n",
       "      <td>False</td>\n",
       "      <td>False</td>\n",
       "      <td>False</td>\n",
       "      <td>0</td>\n",
       "      <td>0</td>\n",
       "      <td>58905</td>\n",
       "      <td>Iowa Falls</td>\n",
       "      <td>42.522726</td>\n",
       "      <td>-93.265547</td>\n",
       "      <td>IA</td>\n",
       "      <td>29.0</td>\n",
       "      <td>True</td>\n",
       "      <td>1406583813000</td>\n",
       "      <td>Ford</td>\n",
       "      <td>Fusion</td>\n",
       "      <td>car</td>\n",
       "      <td>2014</td>\n",
       "    </tr>\n",
       "    <tr>\n",
       "      <th>1</th>\n",
       "      <td>False</td>\n",
       "      <td>8</td>\n",
       "      <td>False</td>\n",
       "      <td>True</td>\n",
       "      <td>False</td>\n",
       "      <td>1</td>\n",
       "      <td>1</td>\n",
       "      <td>403202</td>\n",
       "      <td>Marshall</td>\n",
       "      <td>44.433663</td>\n",
       "      <td>-95.789869</td>\n",
       "      <td>MN</td>\n",
       "      <td>162.0</td>\n",
       "      <td>True</td>\n",
       "      <td>1523137713000</td>\n",
       "      <td>Porsche</td>\n",
       "      <td>718 Boxster</td>\n",
       "      <td>car</td>\n",
       "      <td>2017</td>\n",
       "    </tr>\n",
       "    <tr>\n",
       "      <th>2</th>\n",
       "      <td>False</td>\n",
       "      <td>5</td>\n",
       "      <td>False</td>\n",
       "      <td>True</td>\n",
       "      <td>False</td>\n",
       "      <td>0</td>\n",
       "      <td>0</td>\n",
       "      <td>320436</td>\n",
       "      <td>Colliers</td>\n",
       "      <td>40.351722</td>\n",
       "      <td>-80.559747</td>\n",
       "      <td>WV</td>\n",
       "      <td>40.0</td>\n",
       "      <td>True</td>\n",
       "      <td>1505356047000</td>\n",
       "      <td>Chevrolet</td>\n",
       "      <td>Cruze</td>\n",
       "      <td>car</td>\n",
       "      <td>2014</td>\n",
       "    </tr>\n",
       "    <tr>\n",
       "      <th>3</th>\n",
       "      <td>False</td>\n",
       "      <td>19</td>\n",
       "      <td>False</td>\n",
       "      <td>True</td>\n",
       "      <td>False</td>\n",
       "      <td>4</td>\n",
       "      <td>5</td>\n",
       "      <td>350460</td>\n",
       "      <td>Moon</td>\n",
       "      <td>40.518838</td>\n",
       "      <td>-80.222071</td>\n",
       "      <td>PA</td>\n",
       "      <td>99.0</td>\n",
       "      <td>True</td>\n",
       "      <td>1512018225000</td>\n",
       "      <td>BMW</td>\n",
       "      <td>6 Series</td>\n",
       "      <td>car</td>\n",
       "      <td>2006</td>\n",
       "    </tr>\n",
       "    <tr>\n",
       "      <th>4</th>\n",
       "      <td>False</td>\n",
       "      <td>17</td>\n",
       "      <td>False</td>\n",
       "      <td>False</td>\n",
       "      <td>False</td>\n",
       "      <td>0</td>\n",
       "      <td>0</td>\n",
       "      <td>429146</td>\n",
       "      <td>Pittsburgh</td>\n",
       "      <td>40.495285</td>\n",
       "      <td>-80.241361</td>\n",
       "      <td>PA</td>\n",
       "      <td>81.0</td>\n",
       "      <td>True</td>\n",
       "      <td>1527170872000</td>\n",
       "      <td>Ford</td>\n",
       "      <td>Explorer</td>\n",
       "      <td>suv</td>\n",
       "      <td>2017</td>\n",
       "    </tr>\n",
       "  </tbody>\n",
       "</table>\n",
       "</div>"
      ],
      "text/plain": [
       "   businessClass  distance  freeDeliveryPromotion  instantBookDisplayed  rentableFromSearchedAirport  renterTripsTaken  reviewCount      id         city   latitude  longitude state  daily  automaticTransmission  listingCreatedTime       make        model type  year\n",
       "0          False        11                  False                 False                        False                 0            0   58905  Iowa Falls   42.522726 -93.265547    IA   29.0                   True       1406583813000       Ford       Fusion  car  2014\n",
       "1          False         8                  False                  True                        False                 1            1  403202     Marshall  44.433663 -95.789869    MN  162.0                   True       1523137713000    Porsche  718 Boxster  car  2017\n",
       "2          False         5                  False                  True                        False                 0            0  320436     Colliers  40.351722 -80.559747    WV   40.0                   True       1505356047000  Chevrolet        Cruze  car  2014\n",
       "3          False        19                  False                  True                        False                 4            5  350460         Moon  40.518838 -80.222071    PA   99.0                   True       1512018225000        BMW     6 Series  car  2006\n",
       "4          False        17                  False                 False                        False                 0            0  429146   Pittsburgh  40.495285 -80.241361    PA   81.0                   True       1527170872000       Ford     Explorer  suv  2017"
      ]
     },
     "execution_count": 21,
     "metadata": {},
     "output_type": "execute_result"
    }
   ],
   "source": [
    "turo.head()"
   ]
  },
  {
   "cell_type": "code",
   "execution_count": 22,
   "metadata": {},
   "outputs": [
    {
     "name": "stdout",
     "output_type": "stream",
     "text": [
      "<class 'pandas.core.frame.DataFrame'>\n",
      "Int64Index: 36279 entries, 0 to 36278\n",
      "Data columns (total 19 columns):\n",
      "businessClass                  36279 non-null bool\n",
      "distance                       36279 non-null int64\n",
      "freeDeliveryPromotion          36279 non-null bool\n",
      "instantBookDisplayed           36279 non-null bool\n",
      "rentableFromSearchedAirport    36279 non-null bool\n",
      "renterTripsTaken               36279 non-null int64\n",
      "reviewCount                    36279 non-null int64\n",
      "id                             36279 non-null int64\n",
      "city                           36279 non-null object\n",
      "latitude                       36279 non-null float64\n",
      "longitude                      36279 non-null float64\n",
      "state                          36279 non-null object\n",
      "daily                          36279 non-null float64\n",
      "automaticTransmission          36279 non-null bool\n",
      "listingCreatedTime             36279 non-null int64\n",
      "make                           36279 non-null object\n",
      "model                          36279 non-null object\n",
      "type                           36279 non-null object\n",
      "year                           36279 non-null int64\n",
      "dtypes: bool(5), float64(3), int64(6), object(5)\n",
      "memory usage: 4.3+ MB\n"
     ]
    }
   ],
   "source": [
    "turo.info()"
   ]
  },
  {
   "cell_type": "code",
   "execution_count": 24,
   "metadata": {},
   "outputs": [],
   "source": [
    "turo.to_csv(\"turo.csv\")"
   ]
  },
  {
   "cell_type": "code",
   "execution_count": null,
   "metadata": {},
   "outputs": [],
   "source": []
  }
 ],
 "metadata": {
  "kernelspec": {
   "display_name": "Python 3",
   "language": "python",
   "name": "python3"
  },
  "language_info": {
   "codemirror_mode": {
    "name": "ipython",
    "version": 3
   },
   "file_extension": ".py",
   "mimetype": "text/x-python",
   "name": "python",
   "nbconvert_exporter": "python",
   "pygments_lexer": "ipython3",
   "version": "3.6.3"
  }
 },
 "nbformat": 4,
 "nbformat_minor": 2
}
